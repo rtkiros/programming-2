{
 "cells": [
  {
   "cell_type": "markdown",
   "metadata": {},
   "source": [
    "## Software Engineering for Machine Learning: Characterizing and Detecting Mismatch in Machine-Learning Systems"
   ]
  },
  {
   "cell_type": "markdown",
   "metadata": {},
   "source": [
    "The article discusses the need for improved software engineering practices, including communication and automated detection, to address mismatches in ML-enabled systems during development, deployment, and operation."
   ]
  },
  {
   "cell_type": "markdown",
   "metadata": {},
   "source": [
    "One of the main challenges in ML-enabled systems is the presence of mismatches between different components, such as data science, software engineering, and operations. These mismatches can lead to failed systems and reduced performance. For example, using ML models trained on different data than what is encountered in the production environment can dramatically decrease their performance. To address these challenges, the post discusses the need for improved communication and information sharing among stakeholders."
   ]
  },
  {
   "cell_type": "markdown",
   "metadata": {},
   "source": [
    "To detect and prevent mismatches in ML-enabled systems, the post introduces machine-readable descriptors that capture and codify the assumptions made by different stakeholders. These descriptors facilitate automated detection of mismatches during both design time and runtime. The post provides examples of mismatch categories, including computing-resource mismatch, data-distribution mismatch, API mismatch, test-data mismatch, and monitoring mismatch."
   ]
  },
  {
   "cell_type": "markdown",
   "metadata": {},
   "source": [
    "To develop these descriptors, the SEI conducted a study consisting of interviews with practitioners to identify mismatches and their consequences. The study categorized the identified mismatches and assessed the importance of sharing information to avoid them. The findings highlighted the significance of communication and information sharing in preventing mismatches."
   ]
  },
  {
   "cell_type": "markdown",
   "metadata": {},
   "source": [
    "Future work includes developing an automated mismatch-detection tool based on the descriptors, extending the descriptors to support ML component testing, and creating an ML Component Testing Assistant.\n"
   ]
  },
  {
   "cell_type": "markdown",
   "metadata": {},
   "source": [
    "Overall, the post underscores the need for improved software engineering practices to ensure the successful development, deployment, operation, and evolution of ML-enabled systems. The goal is to make the descriptors publicly available and foster a community focused on improving the engineering practices for ML-enabled systems."
   ]
  },
  {
   "cell_type": "markdown",
   "metadata": {},
   "source": [
    "## Tackling Collaboration Challenges in the Development of ML-Enabled Systems"
   ]
  },
  {
   "cell_type": "markdown",
   "metadata": {},
   "source": [
    "Collaboration between data scientists and software engineers in the development of ML-enabled systems presents unique challenges. These challenges involve aligning different approaches, addressing collaboration points, and integrating product and model components. The study identified collaboration challenges in requirements and planning, training data, and product-model integration. Recommendations include involving data scientists early, clarifying responsibilities, formalizing documentation, addressing data quality, and establishing clear quality requirements. By improving communication, documentation, engineering capabilities, and process alignment, collaboration on ML-enabled systems can be enhanced."
   ]
  },
  {
   "cell_type": "markdown",
   "metadata": {},
   "source": [
    " Ok summaries of the articles, though it could do with some typography. I am missing, however, reflections on your own projects. I am also missing the analysis and code review of a co-student's work.\n",
    "\n",
    " I am also missing the last assignment, the one with the client and the server."
   ]
  }
 ],
 "metadata": {
  "language_info": {
   "name": "python"
  },
  "orig_nbformat": 4
 },
 "nbformat": 4,
 "nbformat_minor": 2
}
