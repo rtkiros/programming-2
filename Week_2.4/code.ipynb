{
 "cells": [
  {
   "cell_type": "code",
   "execution_count": 5,
   "metadata": {},
   "outputs": [],
   "source": [
    "import dask.dataframe as dd \n",
    "import pandas as pd\n",
    "import time"
   ]
  },
  {
   "cell_type": "code",
   "execution_count": null,
   "metadata": {},
   "outputs": [],
   "source": [
    "def perform_test(df):\n",
    "    \"\"\"\n",
    "    Perform a groupby operation on a dataframe and measure the execution time.\n",
    "\n",
    "    Args:\n",
    "        df (pandas.DataFrame or dask.DataFrame): The input dataframe to perform the groupby operation on.\n",
    "\n",
    "    Returns:\n",
    "        float: The elapsed time in seconds for the groupby operation.\n",
    "    \"\"\"\n",
    "    start_time = time.time()\n",
    "\n",
    "    if isinstance(df, pd.DataFrame):\n",
    "        result = df.groupby('id1')['v1'].sum()\n",
    "    elif isinstance(df, dd.DataFrame):\n",
    "        result = df.groupby('id1')['v1'].sum().compute()\n",
    "    else:\n",
    "        raise ValueError(\"Unsupported dataframe type. Only Pandas and Dask dataframes are supported.\")\n",
    "\n",
    "    end_time = time.time()\n",
    "    elapsed_time = end_time - start_time\n",
    "\n",
    "    return elapsed_time\n",
    "\n",
    "df = pd.read_csv('test/groupby-N_1000000_K_100_file_0.csv')\n",
    "dask_df = dd.from_pandas(df, npartitions=4)\n",
    "\n",
    "pandas_time = perform_test(df)\n",
    "dask_time = perform_test(dask_df)\n",
    "\n",
    "print(\"Pandas time:\", pandas_time)\n",
    "print(\"Dask time:\", dask_time)"
   ]
  }
 ],
 "metadata": {
  "kernelspec": {
   "display_name": "Python 3",
   "language": "python",
   "name": "python3"
  },
  "language_info": {
   "codemirror_mode": {
    "name": "ipython",
    "version": 3
   },
   "file_extension": ".py",
   "mimetype": "text/x-python",
   "name": "python",
   "nbconvert_exporter": "python",
   "pygments_lexer": "ipython3",
   "version": "3.11.0"
  },
  "orig_nbformat": 4
 },
 "nbformat": 4,
 "nbformat_minor": 2
}
